chunk_len = 200
 
def random_chunk():
    start_index = random.randint(0, file_len - chunk_len)
    end_index = start_index + chunk_len + 1
    return file[start_index:end_index]

import torch
from torch.autograd import Variable
# Turn string into list of longs
def char_tensor(string):
    tensor = torch.zeros(len(string)).long()
    for c in range(len(string)):
        tensor[c] = all_characters.index(string[c])
    return Variable(tensor)

def random_training_set():    
    chunk = random_chunk()
    inp = char_tensor(chunk[:-1])
    target = char_tensor(chunk[1:])
    return inp, target
    
class My_GRU(nn.Module):
    def __init__(self, input_size, hidden_size):
      super(My_GRU, self).__init__()
      self.rtLin = nn.Linear(input_size,input_size)
      self.rtLinH = nn.Linear(hidden_size,hidden_size)
      self.ztLin = nn.Linear(input_size,input_size)
      self.ztLinH = nn.Linear(hidden_size,hidden_size)
      self.htLin = nn.Linear(input_size,input_size)
     
      
      
    def forward(self, input, hidden):
          
      rt = torch.sigmoid( self.rtLin(input) + self.rtLinH(hidden) )
      zt = torch.sigmoid( self.ztLin(input) + self.ztLinH(hidden) )
      fht = torch.tanh(self.htLin(input)+ (rt * hidden)  )
      ht = (zt * hidden) + ((1-zt)*fht )
      
      return ht,ht

import torch
import torch.nn as nn
from torch.autograd import Variable
 
class RNN(nn.Module):
    def __init__(self, input_size, hidden_size, output_size, n_layers=2):
        super(RNN, self).__init__()
        self.input_size = input_size
        self.hidden_size = hidden_size
        self.output_size = output_size
        self.n_layers = n_layers
        
        self.embedding = nn.Embedding(self.output_size, self.hidden_size)
        self.gru = nn.GRU(self.input_size, self.hidden_size,1)
        self.output = nn.Linear(self.hidden_size, self.output_size)
        self.softmax = nn.LogSoftmax(dim=1)
        
 
 
        # encode using embedding layer
        # set up GRU passing in number of layers parameter (nn.GRU)
        # decode output
 
    def forward(self, input_char, hidden):
        
        
        # by reviewing the documentation, construct a forward function that properly uses the output
        # of the GRU
        # return output and hidden
        output = self.embedding(input_char).view(1, 1, -1)
#         output = torch.relu(output)
        output, hidden = self.gru(output, hidden)
        output = self.output(output[0])
        
#         output = self.softmax(self.output(output[0]))
        
        return output , hidden
 
    def init_hidden(self):
        return Variable(torch.zeros(1, 1, self.hidden_size))

def train(inp, target):
    ## initialize hidden layers, set up gradient and loss 
      # your code here
    ## /
    
    hidden_state = decoder.init_hidden()
    decoder_optimizer.zero_grad()
    
    
    loss = 0
    for c in range(chunk_len):
        output, hidden_state = decoder(inp[c],hidden_state) # run the forward pass of your rnn with proper input
        loss += criterion(output, target[c].unsqueeze(0))
 
    ## calculate backwards loss and step the optimizer (globally)
      # your code here
    ## /
    
    loss.backward()
    
    decoder_optimizer.step()
    
 
    return loss.item() / chunk_len
    

def evaluate(prime_str='A', predict_len=100, temperature=0.8):
  
        
    ## initialize hidden variable, initialize other useful variables 
      # your code here
    ## /
    hidden = decoder.init_hidden()
 
    prime_input = char_tensor(prime_str)
 
    # Use priming string to "build up" hidden state
    for p in range(len(prime_str) - 1):
        _, hidden = decoder(prime_input[p], hidden)
    inp = prime_input[-1]
    
    predicted = ""
    
    for p in range(predict_len):
        output, hidden = decoder(inp,hidden) #run your RNN/decoder forward on the input
 
        # Sample from the network as a multinomial distribution
        output_dist = output.data.view(-1).div(temperature).exp()
        top_i = torch.multinomial(output_dist, 1)[0]
 
        ## get character from your list of all characters, add it to your output str sequence, set input
        ## for the next pass through the model
         # your code here
        ## /
        
        pred_char = all_characters[top_i]
        predicted = predicted + pred_char
        inp = char_tensor(pred_char)
        
 
    return predicted

import time
n_epochs = 1500
print_every = 100
plot_every = 10
hidden_size = 100
n_layers = 1
lr = 0.005
 
decoder = RNN(n_characters, hidden_size, n_characters, n_layers)
decoder_optimizer = torch.optim.Adam(decoder.parameters(), lr=lr)
criterion = nn.CrossEntropyLoss()
 
start = time.time()
all_losses = []
loss_avg = 0
 
for epoch in range(1, n_epochs + 1):
    loss_ = train(*random_training_set())       
    loss_avg += loss_
 
    if epoch % print_every == 0:
        print('[%s (%d %d%%) %.4f]' % (time.time() - start, epoch, epoch / n_epochs * 100, loss_))
        print(evaluate('A', 100), '\n')
 
    if epoch % plot_every == 0:
        all_losses.append(loss_avg / plot_every)
        loss_avg = 0
